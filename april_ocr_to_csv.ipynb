{
 "cells": [
  {
   "cell_type": "code",
   "execution_count": 1,
   "id": "9137a885",
   "metadata": {},
   "outputs": [],
   "source": [
    "import pandas as pd\n",
    "import pdfplumber\n",
    "import csv\n",
    "import os\n",
    "import re"
   ]
  },
  {
   "cell_type": "code",
   "execution_count": 2,
   "id": "82455746",
   "metadata": {},
   "outputs": [],
   "source": [
    "# Extract and parse text\n",
    "with pdfplumber.open('SHA_PAID_FACILITIES_APRIL_2025.pdf') as pdf:\n",
    "    file_text = \"\"\n",
    "    for page in pdf.pages:\n",
    "        file_text += page.extract_text()\n",
    "\n",
    "        # Remove punctuation"
   ]
  },
  {
   "cell_type": "code",
   "execution_count": 114,
   "id": "8bd138ae",
   "metadata": {},
   "outputs": [],
   "source": [
    "def split_parse_text(text: str) -> str:\n",
    "    \"\"\" \n",
    "    Splits merged last record on a page with table headers of first record of following \n",
    "    page.\n",
    "\n",
    "    Example: 'NELEPEK MEDICAL CARE CENTRE 63,469.44SORI LAKESIDE HOSPITAL- NDHIWA 11,725.79'\n",
    "    Split into: \n",
    "    ['NELEPEK MEDICAL CARE CENTRE 63,469.44', 'SORI LAKESIDE HOSPITAL- NDHIWA 11,725.79']\n",
    "    \n",
    "    \"\"\"\n",
    "    pattern = r'(\\d{1,4}(?:,\\d{1,4},?)*\\.*\\d{2})([A-Za-z])'\n",
    "    parsed = re.sub(pattern, r'\\1\\n\\2', text)\n",
    "    return parsed"
   ]
  },
  {
   "cell_type": "code",
   "execution_count": 115,
   "id": "6cb689d1",
   "metadata": {},
   "outputs": [],
   "source": [
    "# Parsed text\n",
    "# Remove odd punctuation\n",
    "punct_to_remove = r'[_ , ;`.\\']'\n",
    "parsed_punt = re.sub(punct_to_remove, '', file_text)\n",
    "parsed_amper = file_text.replace('$', '&')\n",
    "parsed_parser = split_parse_text(file_text)\n",
    "my_rows = parsed_parser.split('\\n')"
   ]
  },
  {
   "cell_type": "code",
   "execution_count": null,
   "id": "67624ee0",
   "metadata": {},
   "outputs": [],
   "source": [
    "def clean_amount(val: str, i: int) -> float:\n",
    "    \"\"\"\n",
    "    Function to clean mangled OCR outputs \n",
    "\n",
    "    Inputs: str\n",
    "        Alphanumeric strings and symbols(, and .)\n",
    "    Returns: \n",
    "        Float with letters and commas removed\n",
    "    \"\"\"\n",
    "    try:\n",
    "        # strip leading junk/scrambled letters.\n",
    "        cleaned = re.sub(r'^[A-Za-z\\.\\-]*', '', val)\n",
    "        # remove any leftover letters and commas\n",
    "        cleaned = re.sub(r'[^0-9.]+', '', cleaned).replace(\",\", \"\")\n",
    "        return float(cleaned)\n",
    "    except Exception as e:\n",
    "        print(f\" Error: {e} at line {i}\")\n",
    "        return None"
   ]
  },
  {
   "cell_type": "code",
   "execution_count": 122,
   "id": "88175d27",
   "metadata": {},
   "outputs": [
    {
     "name": "stdout",
     "output_type": "stream",
     "text": [
      "Skipping line: Vendor Name Claim/s Amount, 0\n",
      "Skipping line: Vendor Name Claim/s Amount, 81\n",
      "Skipping line: Vendor Name Claim/s Amount, 565\n",
      "Skipping line: Vendor Name Claim/s Amount, 3791\n",
      "Skipping line: Vendor Name Claim/s Amount, 7646\n",
      "Skipping line: Vendor Name Claim/s Amount, 10274\n",
      "Skipping line: Vendor Name Claim/s Amount, 13375\n",
      "Skipping line: Vendor Name Claim/s Amount, 16418\n",
      "Skipping line: Vendor Name Claim/s Amount, 19404\n",
      "Skipping line: Vendor Name Claim/s Amount, 19654\n"
     ]
    }
   ],
   "source": [
    "# Process text\n",
    "row_list = my_rows\n",
    "pattern_to_skip = [\n",
    "    r'Vendor Name\\s*Claim\\/s Amount',\n",
    "    r'Hospital Name\\s*Claim\\/s Amount'\n",
    "    ]\n",
    "        \n",
    "with open(\"sha_paid_facilities_april.csv\", 'w', newline = \"\", encoding = \"UTF-8\") as csvfile:\n",
    "        writer = csv.writer(csvfile)\n",
    "        writer.writerow(['provider_name', 'amount'])\n",
    "\n",
    "        for i, line in enumerate(row_list):\n",
    "            line = line.strip()\n",
    "            if not line:\n",
    "                break\n",
    "\n",
    "            # Check pattern match\n",
    "            skip_line = 0\n",
    "            for pattern in pattern_to_skip:\n",
    "                if re.search(pattern, line, re.IGNORECASE):\n",
    "                    skip_line += 1\n",
    "                    print(f\"Skipping line: {line}, {i}\")\n",
    "                    break \n",
    "\n",
    "            if skip_line:\n",
    "                continue\n",
    "            # Parse content\n",
    "            try:\n",
    "                row = line.split()\n",
    "                value_string = ''.join(row[-2:])\n",
    "                amount = clean_amount(value_string, i) \n",
    "                if row[-2].replace(\",\", '')[0].isdigit():\n",
    "                    provider_name = ' '.join(row[:-2])\n",
    "                else:\n",
    "                    provider_name = ' '.join(row[:-1])\n",
    "\n",
    "                writer.writerow([provider_name.title(), amount])\n",
    "\n",
    "            except Exception as e:\n",
    "                print(f\"Error processing line {i}:\", {e})"
   ]
  },
  {
   "cell_type": "code",
   "execution_count": null,
   "id": "e1078341",
   "metadata": {},
   "outputs": [],
   "source": []
  }
 ],
 "metadata": {
  "kernelspec": {
   "display_name": "Python 3",
   "language": "python",
   "name": "python3"
  },
  "language_info": {
   "codemirror_mode": {
    "name": "ipython",
    "version": 3
   },
   "file_extension": ".py",
   "mimetype": "text/x-python",
   "name": "python",
   "nbconvert_exporter": "python",
   "pygments_lexer": "ipython3",
   "version": "3.12.3"
  }
 },
 "nbformat": 4,
 "nbformat_minor": 5
}
