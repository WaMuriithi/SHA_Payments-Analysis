{
 "cells": [
  {
   "cell_type": "code",
   "execution_count": 3,
   "id": "ca3467ea",
   "metadata": {},
   "outputs": [],
   "source": [
    "# Import libraries and modules \n",
    "import csv, time\n",
    "from selenium import webdriver\n",
    "from selenium.webdriver.common.by import By\n",
    "from selenium.webdriver.chrome.service import Service\n",
    "from selenium.webdriver.chrome.options import Options\n",
    "from selenium.webdriver.support.ui import WebDriverWait, Select\n",
    "from selenium.webdriver.support import expected_conditions as EC"
   ]
  },
  {
   "cell_type": "code",
   "execution_count": null,
   "id": "5748963c",
   "metadata": {},
   "outputs": [],
   "source": [
    "# Paths\n",
    "url = 'https://kmpdc.go.ke/Registers/H-Facilities.php'\n",
    "driver_path = r\"C:\\chromedriver-win64\\chromedriver.exe\"\n",
    "\n",
    "# Chrome options\n",
    "chrome_options = Options()\n",
    "chrome_options.add_argument(\"--start-maximized\") \n",
    "chrome_options.add_argument(\"--disable-notifications\")"
   ]
  },
  {
   "cell_type": "code",
   "execution_count": null,
   "id": "570318a5",
   "metadata": {},
   "outputs": [],
   "source": [
    "\n",
    "# Initialize driver\n",
    "service = Service(executable_path=driver_path)\n",
    "driver = webdriver.Chrome(service=service, options=chrome_options)\n",
    "\n",
    "try:\n",
    "    driver.get(url)\n",
    "\n",
    "    # Wait to access the website\n",
    "    wait = WebDriverWait(driver, 10)\n",
    "\n",
    "    # Wait for table to load full contents\n",
    "    wait.until(EC.presence_of_all_elements_located((By.CSS_SELECTOR, \n",
    "                                               \"#DataTables_Table_0 tbody tr\")))\n",
    "    # Set number of records displayed per page\n",
    "    items = Select(driver.find_element(By.XPATH, '//label/select'))\n",
    "    items.select_by_visible_text('100')\n",
    "\n",
    "    # Determine total pages\n",
    "    pages_text = driver.find_element(By.ID, \"DataTables_Table_0_info\").text\n",
    "    pages = int(pages_text.split(' ')[-2].replace(',', ''))//100\n",
    "\n",
    "    # Create CSV file\n",
    "    with open(\"kmpdc_registered_facilities_0927.csv\", 'w', newline=\"\", \n",
    "              encoding='utf-8') as csvfile:\n",
    "        writer = csv.writer(csvfile)\n",
    "        writer.writerow(['facility_name', 'reg_no', 'facility_type', 'level', \n",
    "                         'county', 'status'])\n",
    "\n",
    "        # Scrape data\n",
    "        for page in range(1, pages + 2):\n",
    "            rows = driver.find_elements(By.CSS_SELECTOR, \n",
    "                                        \"#DataTables_Table_0 > tbody > tr\")\n",
    "            for row in rows:\n",
    "                cols = row.find_elements(By.TAG_NAME, \"td\")\n",
    "                data = [col.text.strip() for col in cols]\n",
    "                facility_name = data[0]; reg_no = data[1]; facility_type = data[3]; \n",
    "                level = data[4]; county = data[5]; status=data[6]\n",
    "                writer.writerow([facility_name, reg_no, facility_type, level, county, status])\n",
    "\n",
    "            # Naviate to the next page\n",
    "            try:\n",
    "                next_button = driver.find_element(By.XPATH, \"//li[7]/a\")\n",
    "                driver.execute_script(\"arguments[0].scrollIntoView(true);\", next_button)\n",
    "                next_button.click()\n",
    "                time.sleep(2)  \n",
    "            except Exception as e:\n",
    "                print(f\"Error clicking next on page {page}: {e}\")\n",
    "                break  \n",
    "\n",
    "except Exception as e:\n",
    "    print(f\"Error on {page}:\", e)\n",
    "\n",
    "finally:\n",
    "    driver.quit()\n",
    "\n",
    "\n"
   ]
  },
  {
   "cell_type": "code",
   "execution_count": null,
   "id": "23149185",
   "metadata": {},
   "outputs": [],
   "source": []
  }
 ],
 "metadata": {
  "kernelspec": {
   "display_name": "Python 3",
   "language": "python",
   "name": "python3"
  },
  "language_info": {
   "codemirror_mode": {
    "name": "ipython",
    "version": 3
   },
   "file_extension": ".py",
   "mimetype": "text/x-python",
   "name": "python",
   "nbconvert_exporter": "python",
   "pygments_lexer": "ipython3",
   "version": "3.12.3"
  }
 },
 "nbformat": 4,
 "nbformat_minor": 5
}
