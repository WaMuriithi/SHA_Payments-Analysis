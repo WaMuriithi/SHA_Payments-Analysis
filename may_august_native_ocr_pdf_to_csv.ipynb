{
 "cells": [
  {
   "cell_type": "code",
   "execution_count": 1,
   "id": "a7fc7fb4",
   "metadata": {},
   "outputs": [],
   "source": [
    "import pandas as pd \n",
    "import os\n",
    "import pdfplumber \n",
    "import csv\n",
    "import re "
   ]
  },
  {
   "cell_type": "code",
   "execution_count": 3,
   "id": "a600da4b",
   "metadata": {},
   "outputs": [],
   "source": [
    "# Parse text to remove joined records\n",
    "def parse_text(text: str) -> str:\n",
    "    \"\"\" \n",
    "    Splits merged last record on a page with table headers or first record of following \n",
    "    page.\n",
    "\n",
    "    Example: 'NELEPEK MEDICAL CARE CENTRE 63,469.44SORI LAKESIDE HOSPITAL- NDHIWA 11,725.79'\n",
    "    Split into: \n",
    "    ['NELEPEK MEDICAL CARE CENTRE 63,469.44', 'SORI LAKESIDE HOSPITAL- NDHIWA 11,725.79']\n",
    "    \n",
    "    \"\"\"\n",
    "    pattern = r'(\\d{1,3}(?:,\\d{3})*\\.\\d{2})([A-Z][a-zA-Z])'\n",
    "    parsed = re.sub(pattern, r'\\1\\n\\2', text)\n",
    "    parsed = parsed.replace('$', '&')\n",
    "    return parsed"
   ]
  },
  {
   "cell_type": "code",
   "execution_count": 4,
   "id": "837a4a88",
   "metadata": {},
   "outputs": [],
   "source": [
    "# Extract amount from scrambled text\n",
    "def clean_amount(val):\n",
    "\n",
    "    clean_amount = re.sub('[^0-9.]', \"\", val)\n",
    "    return round(float(clean_amount), 2)"
   ]
  },
  {
   "cell_type": "code",
   "execution_count": 8,
   "id": "ada10b18",
   "metadata": {},
   "outputs": [],
   "source": [
    "# Read pdf into a text file\n",
    "with pdfplumber.open(r\"C:\\Users\\user\\Desktop\\Wizi Peupe\\sha_payments\\pdfs\\SHA_PAID_FACILITIES_JULY_2025.pdf\") as pdf:\n",
    "    file_text = \"\"\n",
    "    for page in pdf.pages:\n",
    "        file_text += page.extract_text()\n",
    "        parsed = parse_text(file_text)\n",
    "    \n"
   ]
  },
  {
   "cell_type": "code",
   "execution_count": null,
   "id": "149c557e",
   "metadata": {},
   "outputs": [],
   "source": [
    "# Extract text and write to CSV\n",
    "records = parsed.split(\"\\n\")\n",
    "\n",
    "patterns_to_skip = [\n",
    "    r'^HOSPITAL\\s?Name',\n",
    "    r'^Vendor',\n",
    "    r'^TOTAL',\n",
    "    r'^SHA\\s?Paid',\n",
    "    r'^Provider\\s?Name',\n",
    "    r'^Page\\s?\\d+',\n",
    "    r'^Grand\\s?Total',\n",
    "    r'Paid\\s?Facilities'\n",
    "    ]\n",
    "    #r'^\\d+']\n",
    "\n",
    "\n",
    "with open(r\"C:\\Users\\user\\Desktop\\Wizi Peupe\\sha_payments\\csvs\\sha_paid_facilities_july_2025.csv\", \n",
    "'w', newline='', encoding='utf-8') as csvfile:\n",
    "    writer = csv.writer(csvfile)\n",
    "    writer.writerow(['provider_name', 'amount'])\n",
    "\n",
    "    # Preprocess records\n",
    "    for i, line in enumerate(records):\n",
    "        line = line.strip()\n",
    "        if not line:\n",
    "            continue\n",
    "        \n",
    "        # Skip table or document headers\n",
    "        skip_line = 0\n",
    "        for pattern in patterns_to_skip:\n",
    "            if re.match(pattern, line, re.IGNORECASE):\n",
    "                skip_line += 1\n",
    "                print(f\"Skipping line: {line}\")\n",
    "                break \n",
    "\n",
    "        # Continue to next line\n",
    "        if skip_line:\n",
    "            continue\n",
    "\n",
    "        # Separate provider name and amount\n",
    "        try:\n",
    "            data = line.strip().split()\n",
    "            \n",
    "            if not len(data) >= 15:\n",
    "                provider_name = ' '.join(data[:-1])\n",
    "                amount = clean_amount((data[-1]))\n",
    "                \n",
    "            else:\n",
    "                provider_name = ' '.join(data[:-3])\n",
    "                amount_str = ''.join(data[-5:])\n",
    "                amount = clean_amount(amount_str)\n",
    "\n",
    "            # Write records\n",
    "            writer.writerow([provider_name, amount])\n",
    "        except Exception as e:\n",
    "            print(f\"Error {e} on line: {line}, {i}\")\n",
    "\n",
    "\n",
    "\n",
    "\n"
   ]
  }
 ],
 "metadata": {
  "kernelspec": {
   "display_name": "Python 3",
   "language": "python",
   "name": "python3"
  },
  "language_info": {
   "codemirror_mode": {
    "name": "ipython",
    "version": 3
   },
   "file_extension": ".py",
   "mimetype": "text/x-python",
   "name": "python",
   "nbconvert_exporter": "python",
   "pygments_lexer": "ipython3",
   "version": "3.12.3"
  }
 },
 "nbformat": 4,
 "nbformat_minor": 5
}
